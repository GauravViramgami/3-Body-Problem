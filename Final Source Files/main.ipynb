{
 "cells": [
  {
   "cell_type": "markdown",
   "id": "viral-deficit",
   "metadata": {},
   "source": [
    "<center><h1>MA 202 - Mathematics IV</h1></center><br>\n",
    "<center><h2>Numerical Analysis of 3 Body Problem Restricted to 2 Dimensions</h2></center><br><hr>\n",
    "<center><h4>Viramgami Gaurav - 19110106 | Yash More - 19110123 | Kritika Kumawat - 19110185 | Pahuni Jain - 19110021 Maddela Siddarth - 18110097</h4></center><hr>"
   ]
  },
  {
   "cell_type": "markdown",
   "id": "cooperative-trainer",
   "metadata": {},
   "source": [
    "## <center>`Driver Code File`</center>"
   ]
  },
  {
   "cell_type": "markdown",
   "id": "placed-humidity",
   "metadata": {},
   "source": [
    "### Importing Files conatining classes and constants\n",
    "> `Important_classes.py`: Contains defined classes including `Object2D`, `TwoBodySystem`, `ThreeBodySystem`, and `NBodySystem`\n",
    "> `Global_constants.py`: Contains constants and parameters used in the code"
   ]
  },
  {
   "cell_type": "code",
   "execution_count": null,
   "id": "comparative-station",
   "metadata": {},
   "outputs": [],
   "source": [
    "from Important_classes import *\n",
    "from Global_constants import *"
   ]
  },
  {
   "cell_type": "code",
   "execution_count": null,
   "id": "varied-killer",
   "metadata": {},
   "outputs": [],
   "source": []
  }
 ],
 "metadata": {
  "kernelspec": {
   "display_name": "Python 3",
   "language": "python",
   "name": "python3"
  },
  "language_info": {
   "codemirror_mode": {
    "name": "ipython",
    "version": 3
   },
   "file_extension": ".py",
   "mimetype": "text/x-python",
   "name": "python",
   "nbconvert_exporter": "python",
   "pygments_lexer": "ipython3",
   "version": "3.8.2"
  }
 },
 "nbformat": 4,
 "nbformat_minor": 5
}
